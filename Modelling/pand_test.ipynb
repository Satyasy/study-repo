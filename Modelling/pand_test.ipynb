{
 "cells": [
  {
   "cell_type": "code",
   "execution_count": 1,
   "id": "75569fa2-572a-4ed8-8a4d-1be4ffff253a",
   "metadata": {},
   "outputs": [],
   "source": [
    "import numpy as np\n",
    "import pandas as pd"
   ]
  },
  {
   "cell_type": "markdown",
   "id": "abded43c-e2bb-437a-9f4d-12bbb6030047",
   "metadata": {},
   "source": [
    " # Membuat DataFrame"
   ]
  },
  {
   "cell_type": "code",
   "execution_count": 14,
   "id": "b9ce7d50-cb18-4b89-9281-21f2de3361c1",
   "metadata": {},
   "outputs": [],
   "source": [
    "df = pd.read_csv(\"../DataSheets/Dataset_inisiasi.csv\")"
   ]
  },
  {
   "cell_type": "code",
   "execution_count": 20,
   "id": "f95b6ccd-e7dd-4b86-83df-553777a0d199",
   "metadata": {},
   "outputs": [
    {
     "data": {
      "text/html": [
       "<div>\n",
       "<style scoped>\n",
       "    .dataframe tbody tr th:only-of-type {\n",
       "        vertical-align: middle;\n",
       "    }\n",
       "\n",
       "    .dataframe tbody tr th {\n",
       "        vertical-align: top;\n",
       "    }\n",
       "\n",
       "    .dataframe thead th {\n",
       "        text-align: right;\n",
       "    }\n",
       "</style>\n",
       "<table border=\"1\" class=\"dataframe\">\n",
       "  <thead>\n",
       "    <tr style=\"text-align: right;\">\n",
       "      <th></th>\n",
       "      <th>Unnamed: 0</th>\n",
       "      <th>provinsi</th>\n",
       "      <th>daerah</th>\n",
       "      <th>jenis</th>\n",
       "      <th>tahun</th>\n",
       "      <th>peng</th>\n",
       "      <th>Cluster</th>\n",
       "    </tr>\n",
       "  </thead>\n",
       "  <tbody>\n",
       "    <tr>\n",
       "      <th>0</th>\n",
       "      <td>0</td>\n",
       "      <td>ACEH</td>\n",
       "      <td>PERDESAAN</td>\n",
       "      <td>MAKANAN</td>\n",
       "      <td>2007</td>\n",
       "      <td>195176.0</td>\n",
       "      <td>Cluster 1</td>\n",
       "    </tr>\n",
       "    <tr>\n",
       "      <th>1</th>\n",
       "      <td>1</td>\n",
       "      <td>ACEH</td>\n",
       "      <td>PERDESAAN</td>\n",
       "      <td>MAKANAN</td>\n",
       "      <td>2008</td>\n",
       "      <td>218781.0</td>\n",
       "      <td>Cluster 1</td>\n",
       "    </tr>\n",
       "    <tr>\n",
       "      <th>2</th>\n",
       "      <td>2</td>\n",
       "      <td>ACEH</td>\n",
       "      <td>PERDESAAN</td>\n",
       "      <td>MAKANAN</td>\n",
       "      <td>2009</td>\n",
       "      <td>247427.0</td>\n",
       "      <td>Cluster 1</td>\n",
       "    </tr>\n",
       "    <tr>\n",
       "      <th>3</th>\n",
       "      <td>3</td>\n",
       "      <td>ACEH</td>\n",
       "      <td>PERDESAAN</td>\n",
       "      <td>MAKANAN</td>\n",
       "      <td>2010</td>\n",
       "      <td>275749.0</td>\n",
       "      <td>Cluster 1</td>\n",
       "    </tr>\n",
       "    <tr>\n",
       "      <th>4</th>\n",
       "      <td>4</td>\n",
       "      <td>ACEH</td>\n",
       "      <td>PERDESAAN</td>\n",
       "      <td>MAKANAN</td>\n",
       "      <td>2011</td>\n",
       "      <td>308000.0</td>\n",
       "      <td>Cluster 1</td>\n",
       "    </tr>\n",
       "  </tbody>\n",
       "</table>\n",
       "</div>"
      ],
      "text/plain": [
       "   Unnamed: 0 provinsi     daerah    jenis  tahun      peng    Cluster\n",
       "0           0     ACEH  PERDESAAN  MAKANAN   2007  195176.0  Cluster 1\n",
       "1           1     ACEH  PERDESAAN  MAKANAN   2008  218781.0  Cluster 1\n",
       "2           2     ACEH  PERDESAAN  MAKANAN   2009  247427.0  Cluster 1\n",
       "3           3     ACEH  PERDESAAN  MAKANAN   2010  275749.0  Cluster 1\n",
       "4           4     ACEH  PERDESAAN  MAKANAN   2011  308000.0  Cluster 1"
      ]
     },
     "execution_count": 20,
     "metadata": {},
     "output_type": "execute_result"
    }
   ],
   "source": [
    "df.head() #Method"
   ]
  },
  {
   "cell_type": "code",
   "execution_count": 24,
   "id": "5d1ed1ca-7477-429f-a715-554d506babff",
   "metadata": {},
   "outputs": [
    {
     "data": {
      "text/html": [
       "<div>\n",
       "<style scoped>\n",
       "    .dataframe tbody tr th:only-of-type {\n",
       "        vertical-align: middle;\n",
       "    }\n",
       "\n",
       "    .dataframe tbody tr th {\n",
       "        vertical-align: top;\n",
       "    }\n",
       "\n",
       "    .dataframe thead th {\n",
       "        text-align: right;\n",
       "    }\n",
       "</style>\n",
       "<table border=\"1\" class=\"dataframe\">\n",
       "  <thead>\n",
       "    <tr style=\"text-align: right;\">\n",
       "      <th></th>\n",
       "      <th>Unnamed: 0</th>\n",
       "      <th>provinsi</th>\n",
       "      <th>daerah</th>\n",
       "      <th>jenis</th>\n",
       "      <th>tahun</th>\n",
       "      <th>peng</th>\n",
       "      <th>Cluster</th>\n",
       "    </tr>\n",
       "  </thead>\n",
       "  <tbody>\n",
       "    <tr>\n",
       "      <th>3075</th>\n",
       "      <td>4603</td>\n",
       "      <td>INDONESIA</td>\n",
       "      <td>PERDESAANPERKOTAAN</td>\n",
       "      <td>NONMAKANAN</td>\n",
       "      <td>2018</td>\n",
       "      <td>567817.0</td>\n",
       "      <td>Cluster 6</td>\n",
       "    </tr>\n",
       "    <tr>\n",
       "      <th>3076</th>\n",
       "      <td>4604</td>\n",
       "      <td>INDONESIA</td>\n",
       "      <td>PERDESAANPERKOTAAN</td>\n",
       "      <td>NONMAKANAN</td>\n",
       "      <td>2019</td>\n",
       "      <td>592689.0</td>\n",
       "      <td>Cluster 6</td>\n",
       "    </tr>\n",
       "    <tr>\n",
       "      <th>3077</th>\n",
       "      <td>4605</td>\n",
       "      <td>INDONESIA</td>\n",
       "      <td>PERDESAANPERKOTAAN</td>\n",
       "      <td>NONMAKANAN</td>\n",
       "      <td>2020</td>\n",
       "      <td>622448.0</td>\n",
       "      <td>Cluster 6</td>\n",
       "    </tr>\n",
       "    <tr>\n",
       "      <th>3078</th>\n",
       "      <td>4606</td>\n",
       "      <td>INDONESIA</td>\n",
       "      <td>PERDESAANPERKOTAAN</td>\n",
       "      <td>NONMAKANAN</td>\n",
       "      <td>2021</td>\n",
       "      <td>641744.0</td>\n",
       "      <td>Cluster 6</td>\n",
       "    </tr>\n",
       "    <tr>\n",
       "      <th>3079</th>\n",
       "      <td>4607</td>\n",
       "      <td>INDONESIA</td>\n",
       "      <td>PERDESAANPERKOTAAN</td>\n",
       "      <td>NONMAKANAN</td>\n",
       "      <td>2022</td>\n",
       "      <td>662025.0</td>\n",
       "      <td>Cluster 6</td>\n",
       "    </tr>\n",
       "  </tbody>\n",
       "</table>\n",
       "</div>"
      ],
      "text/plain": [
       "      Unnamed: 0   provinsi              daerah       jenis  tahun      peng  \\\n",
       "3075        4603  INDONESIA  PERDESAANPERKOTAAN  NONMAKANAN   2018  567817.0   \n",
       "3076        4604  INDONESIA  PERDESAANPERKOTAAN  NONMAKANAN   2019  592689.0   \n",
       "3077        4605  INDONESIA  PERDESAANPERKOTAAN  NONMAKANAN   2020  622448.0   \n",
       "3078        4606  INDONESIA  PERDESAANPERKOTAAN  NONMAKANAN   2021  641744.0   \n",
       "3079        4607  INDONESIA  PERDESAANPERKOTAAN  NONMAKANAN   2022  662025.0   \n",
       "\n",
       "        Cluster  \n",
       "3075  Cluster 6  \n",
       "3076  Cluster 6  \n",
       "3077  Cluster 6  \n",
       "3078  Cluster 6  \n",
       "3079  Cluster 6  "
      ]
     },
     "execution_count": 24,
     "metadata": {},
     "output_type": "execute_result"
    }
   ],
   "source": [
    "df.tail()"
   ]
  },
  {
   "cell_type": "code",
   "execution_count": 26,
   "id": "58b4b20c-802f-407b-8a7a-7511514723c6",
   "metadata": {},
   "outputs": [
    {
     "data": {
      "text/plain": [
       "Index(['Unnamed: 0', 'provinsi', 'daerah', 'jenis', 'tahun', 'peng',\n",
       "       'Cluster'],\n",
       "      dtype='object')"
      ]
     },
     "execution_count": 26,
     "metadata": {},
     "output_type": "execute_result"
    }
   ],
   "source": [
    "df.columns"
   ]
  },
  {
   "cell_type": "code",
   "execution_count": 30,
   "id": "43705231-adee-468f-bb20-16861a6e1e95",
   "metadata": {},
   "outputs": [
    {
     "data": {
      "text/plain": [
       "(3080, 7)"
      ]
     },
     "execution_count": 30,
     "metadata": {},
     "output_type": "execute_result"
    }
   ],
   "source": [
    "df.shape"
   ]
  },
  {
   "cell_type": "code",
   "execution_count": null,
   "id": "17a613b9-2956-42df-bba5-dba8860184aa",
   "metadata": {},
   "outputs": [],
   "source": []
  }
 ],
 "metadata": {
  "kernelspec": {
   "display_name": "Python 3 (ipykernel)",
   "language": "python",
   "name": "python3"
  },
  "language_info": {
   "codemirror_mode": {
    "name": "ipython",
    "version": 3
   },
   "file_extension": ".py",
   "mimetype": "text/x-python",
   "name": "python",
   "nbconvert_exporter": "python",
   "pygments_lexer": "ipython3",
   "version": "3.12.7"
  }
 },
 "nbformat": 4,
 "nbformat_minor": 5
}
